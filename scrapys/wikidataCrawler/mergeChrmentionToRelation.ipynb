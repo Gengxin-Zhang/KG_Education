{
 "cells": [
  {
   "cell_type": "code",
   "execution_count": 3,
   "metadata": {
    "collapsed": false,
    "scrolled": false
   },
   "outputs": [],
   "source": [
    "import json\n",
    "\n",
    "relation_list = list()\n",
    "chrmention_list = list()\n",
    "result_list = list()\n",
    "fail_list = list()\n",
    "vis = dict()\n",
    "duplicated_list = list()\n",
    "count = 0\n",
    "with open('relation.json','r') as f1:\n",
    "    for r in f1.readlines():\n",
    "        data = json.loads(r)\n",
    "        relation_list.append(data)\n",
    "with open('chrmention.json','r') as f2:\n",
    "    for chr in f2.readlines():\n",
    "        data = json.loads(chr)\n",
    "        chrmention_list.append(data)\n",
    "    for relation in relation_list:\n",
    "        flag = 0\n",
    "        for chrmention in chrmention_list:\n",
    "            if(vis.get(relation['rid']) is None):\n",
    "                vis[relation['rid']] = 1 \n",
    "            else:\n",
    "                duplicated_list.append(relation['rid'])\n",
    "                count += 1 \n",
    "            if(relation['rid'] == chrmention['rid']):\n",
    "                flag = 1\n",
    "                relation['chrmention'] = chrmention['chrmention']\n",
    "                result_list.append(relation)\n",
    "                break\n",
    "        if(flag == 0):\n",
    "            fail_list.append(relation)\n",
    "    with open('result.json','w')as fw:\n",
    "        for item in result_list:\n",
    "            json.dump(item,fw,ensure_ascii=False)\n",
    "            fw.write(\"\\n\")\n",
    "    with open('fail.json','w') as fw:\n",
    "        for item in fail_list:\n",
    "            json.dump(item,fw,ensure_ascii=False)\n",
    "            fw.write(\"\\n\")"
   ]
  },
  {
   "cell_type": "code",
   "execution_count": null,
   "metadata": {
    "collapsed": true
   },
   "outputs": [],
   "source": []
  },
  {
   "cell_type": "code",
   "execution_count": null,
   "metadata": {
    "collapsed": true
   },
   "outputs": [],
   "source": []
  }
 ],
 "metadata": {
  "kernelspec": {
   "display_name": "Python 3",
   "language": "python",
   "name": "python3"
  },
  "language_info": {
   "codemirror_mode": {
    "name": "ipython",
    "version": 3
   },
   "file_extension": ".py",
   "mimetype": "text/x-python",
   "name": "python",
   "nbconvert_exporter": "python",
   "pygments_lexer": "ipython3",
   "version": "3.6.3"
  }
 },
 "nbformat": 4,
 "nbformat_minor": 2
}
